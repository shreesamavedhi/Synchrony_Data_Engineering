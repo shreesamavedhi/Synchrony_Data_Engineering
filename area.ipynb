{
 "cells": [
  {
   "cell_type": "code",
   "execution_count": null,
   "metadata": {},
   "outputs": [],
   "source": [
    "def area(p1, p2, p3, p4):\n",
    "    d1 = distSq(p1, p2)\n",
    "    d2 = distSq(p2, p3)\n",
    "    d3 = distSq(p3, p4)\n",
    "    d4 = distSq(p1, p4)\n",
    "    d5 = distSq(p1, p3)\n",
    "    d6 = distSq(p2, p4)\n",
    "\n",
    "    dist_list = [d1, d2, d3, d4, d5, d6]\n",
    "    \n",
    "    if (val == 0 for val in dist_list):\n",
    "        return -1\n",
    "\n",
    "    sides_2 = [number for number in dist_list if dist_list.count(number) > 1]\n",
    "    two_sides = list(set(sides_2))\n",
    "    # Check if two sides are equal and diagonals are equal\n",
    "    if len(two_sides) == 3:\n",
    "        two_sides.sort()\n",
    "        # Rectangle\n",
    "        return two_sides[0] * two_sides[1]\n",
    "    elif len(two_sides) == 2:\n",
    "        # Rhombus\n",
    "        diag = set(dist_list) - two_sides[0] - two_sides[1]\n",
    "        return (diag[0]*diag[1])/2\n",
    "\n",
    "    sides_4 = [number for number in dist_list if dist_list.count(number) > 3]\n",
    "    four_sides = list(set(sides_4))\n",
    "    # Check if all sides are equal\n",
    "    if (len(four_sides) == 1):\n",
    "        diag = set(dist_list) - four_sides[0]\n",
    "        if (diag[0] == diag[1]):\n",
    "            # Square\n",
    "            return four_sides[0]*four_sides[0];\n",
    "        else:\n",
    "            # Rhombus\n",
    "            return (diag[0]*diag[1])/2\n",
    "\n",
    "    # Trapezoid\n",
    "    # Parallelogram\n",
    "    # Kite\n",
    "    # Other"
   ]
  },
  {
   "cell_type": "code",
   "execution_count": 3,
   "metadata": {},
   "outputs": [],
   "source": [
    "import math\n",
    "def main():\n",
    "    class Point:\n",
    "        # Structure of a point in 2D space\n",
    "        def __init__(self, x, y):\n",
    "            self.x = x\n",
    "            self.y = y"
   ]
  },
  {
   "cell_type": "code",
   "execution_count": 4,
   "metadata": {},
   "outputs": [],
   "source": [
    "# A utility function to find square of\n",
    "# distance from point 'p' to point 'q'\n",
    "def distSq(p, q):\n",
    "    return sqrt((p.x - q.x) **2 + (p.y - q.y) **2)"
   ]
  },
  {
   "cell_type": "code",
   "execution_count": null,
   "metadata": {},
   "outputs": [],
   "source": []
  }
 ],
 "metadata": {
  "kernelspec": {
   "display_name": "Python 3.9.7 64-bit",
   "language": "python",
   "name": "python3"
  },
  "language_info": {
   "codemirror_mode": {
    "name": "ipython",
    "version": 3
   },
   "file_extension": ".py",
   "mimetype": "text/x-python",
   "name": "python",
   "nbconvert_exporter": "python",
   "pygments_lexer": "ipython3",
   "version": "3.9.7"
  },
  "orig_nbformat": 4,
  "vscode": {
   "interpreter": {
    "hash": "a28960e65365257941a791ce2683654f258fd3efc08277d53aa5422e77a5c2c7"
   }
  }
 },
 "nbformat": 4,
 "nbformat_minor": 2
}
