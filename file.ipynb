{
 "cells": [
  {
   "cell_type": "code",
   "execution_count": 66,
   "metadata": {},
   "outputs": [],
   "source": [
    "def main():\n",
    "    # Creating dictionary class \n",
    "    class CreateDictionary(dict): \n",
    "        def __init__(self): \n",
    "            self = dict() \n",
    "\n",
    "        # Function to add key:value \n",
    "        def add(self, id, name, city): \n",
    "            self[id] = {\"name\": name, \"city\": city} \n",
    "    \n",
    "    \n",
    "    dict_obj = parse_data(\"file_tests/test1.txt\")\n",
    "\n",
    "    return dict_obj"
   ]
  },
  {
   "cell_type": "code",
   "execution_count": 67,
   "metadata": {},
   "outputs": [],
   "source": [
    "def parse_data(filename):\n",
    "\n",
    "    # Creating dictionary object \n",
    "    dict_obj = CreateDictionary()\n",
    "\n",
    "    file = open(filename, 'r')\n",
    "    lines = file.readlines()\n",
    "\n",
    "    for line in lines:\n",
    "        split_line = line.replace(\"\\n\", \"\").split(\"^^\", 2)\n",
    "        cur_id = int(split_line[0].replace(\"id\", \"\").replace(\"=\", \"\").replace(\"^\", \"\"))\n",
    "        cur_name = split_line[1].replace(\"name\", \"\").replace(\"=\", \"\").replace(\"^\", \"\")\n",
    "        cur_city = split_line[2].replace(\"city\", \"\").replace(\"=\", \"\").replace(\"^\", \"\")\n",
    "        dict_obj.add(cur_id, cur_name, cur_city)\n",
    "    \n",
    "    return dict_obj"
   ]
  },
  {
   "cell_type": "code",
   "execution_count": null,
   "metadata": {},
   "outputs": [],
   "source": []
  }
 ],
 "metadata": {
  "kernelspec": {
   "display_name": "Python 3.9.7 64-bit",
   "language": "python",
   "name": "python3"
  },
  "language_info": {
   "codemirror_mode": {
    "name": "ipython",
    "version": 3
   },
   "file_extension": ".py",
   "mimetype": "text/x-python",
   "name": "python",
   "nbconvert_exporter": "python",
   "pygments_lexer": "ipython3",
   "version": "3.9.7"
  },
  "orig_nbformat": 4,
  "vscode": {
   "interpreter": {
    "hash": "a28960e65365257941a791ce2683654f258fd3efc08277d53aa5422e77a5c2c7"
   }
  }
 },
 "nbformat": 4,
 "nbformat_minor": 2
}
